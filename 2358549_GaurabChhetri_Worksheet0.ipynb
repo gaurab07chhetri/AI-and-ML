{
  "nbformat": 4,
  "nbformat_minor": 0,
  "metadata": {
    "colab": {
      "provenance": []
    },
    "kernelspec": {
      "name": "python3",
      "display_name": "Python 3"
    },
    "language_info": {
      "name": "python"
    }
  },
  "cells": [
    {
      "cell_type": "markdown",
      "source": [
        "Student Name: Gaurab Chhetri\n",
        "\n",
        "Student Number: 2358549"
      ],
      "metadata": {
        "id": "JeiiQdbobARr"
      }
    },
    {
      "cell_type": "markdown",
      "source": [
        "# **1) TO - DO - Task**"
      ],
      "metadata": {
        "id": "LisgalUbnF5C"
      }
    },
    {
      "cell_type": "markdown",
      "source": [
        "**1.1) Exercise on Functions:**"
      ],
      "metadata": {
        "id": "YlMkOE02nLif"
      }
    },
    {
      "cell_type": "markdown",
      "source": [
        "Task - 1:\n",
        "Create a Python program that converts between different units of measurement.\n",
        "\n",
        "• The program should:\n",
        "1. Prompt the user to choose the type of conversion (e.g., length, weight, volume).\n",
        "2. Ask the user to input the value to be converted.\n",
        "3. Perform the conversion and display the result.\n",
        "4. Handle potential errors, such as invalid input or unsupported conversion types.\n",
        "\n",
        "• Requirements:\n",
        "1. Functions: Define at least one function to perform the conversion.\n",
        "2. Error Handling: Use try-except blocks to handle invalid input (e.g., non-numeric values).\n",
        "3. User Input: Prompt the user to select the conversion type and input the value.\n",
        "4. Docstrings: Include a docstring in your function to describe its purpose, parameters, and\n",
        "return value.\n",
        "\n",
        "• Conversion Options:\n",
        "1. Length:\n",
        "– Convert meters (m) to feet (ft).\n",
        "– Convert feet (ft) to meters (m).\n",
        "2. Weight:\n",
        "– Convert kilograms (kg) to pounds (lbs).\n",
        "– Convert pounds (lbs) to kilograms (kg).\n",
        "3. Volume:\n",
        "– Convert liters (L) to gallons (gal).\n",
        "– Convert gallons (gal) to liters (L)."
      ],
      "metadata": {
        "id": "fuKmsc_NnRMj"
      }
    },
    {
      "cell_type": "code",
      "execution_count": null,
      "metadata": {
        "colab": {
          "base_uri": "https://localhost:8080/"
        },
        "id": "xChIC7Qbm0AO",
        "outputId": "f5ff7a31-08bf-48c7-d598-c913edcf6936"
      },
      "outputs": [
        {
          "output_type": "stream",
          "name": "stdout",
          "text": [
            "Choose conversion type:\n",
            "1. Length (m <-> ft)\n",
            "2. Weight (kg <-> lbs)\n",
            "3. Volume (L <-> gal)\n",
            "Enter 1, 2, or 3: 3\n",
            "Enter value: 4\n",
            "Enter unit (L/gal): gal\n",
            "4.0 gallons = 15.141650137031933 liters\n"
          ]
        }
      ],
      "source": [
        "def convert_units():\n",
        "    \"\"\"Converts between different units of measurement.\"\"\"\n",
        "    print(\"Choose conversion type:\")\n",
        "    print(\"1. Length (m <-> ft)\")\n",
        "    print(\"2. Weight (kg <-> lbs)\")\n",
        "    print(\"3. Volume (L <-> gal)\")\n",
        "\n",
        "    conversion_type = input(\"Enter 1, 2, or 3: \")\n",
        "\n",
        "    try:\n",
        "        if conversion_type == \"1\":\n",
        "            amount = float(input(\"Enter value: \"))\n",
        "            unit_type = input(\"Enter unit (m/ft): \").lower()\n",
        "            if unit_type == \"m\":\n",
        "                print(f\"{amount} meters = {amount * 3.28084} feet\")\n",
        "            elif unit_type == \"ft\":\n",
        "                print(f\"{amount} feet = {amount / 3.28084} meters\")\n",
        "            else:\n",
        "                print(\"Invalid unit.\")\n",
        "        elif conversion_type == \"2\":\n",
        "            amount = float(input(\"Enter value: \"))\n",
        "            unit_type = input(\"Enter unit (kg/lbs): \").lower()\n",
        "            if unit_type == \"kg\":\n",
        "                print(f\"{amount} kg = {amount * 2.20462} lbs\")\n",
        "            elif unit_type == \"lbs\":\n",
        "                print(f\"{amount} lbs = {amount / 2.20462} kg\")\n",
        "            else:\n",
        "                print(\"Invalid unit.\")\n",
        "        elif conversion_type == \"3\":\n",
        "            amount = float(input(\"Enter value: \"))\n",
        "            unit_type = input(\"Enter unit (L/gal): \").lower()\n",
        "            if unit_type == \"l\":\n",
        "                print(f\"{amount} liters = {amount * 0.264172} gallons\")\n",
        "            elif unit_type == \"gal\":\n",
        "                print(f\"{amount} gallons = {amount / 0.264172} liters\")\n",
        "            else:\n",
        "                print(\"Invalid unit.\")\n",
        "        else:\n",
        "            print(\"Invalid choice.\")\n",
        "    except ValueError:\n",
        "        print(\"Invalid input. Please enter a number.\")\n",
        "\n",
        "convert_units()\n"
      ]
    },
    {
      "cell_type": "markdown",
      "source": [
        "Task - 2:\n",
        "Create a Python program that performs various mathematical operations on a list of numbers.\n",
        "\n",
        "• The Program should:\n",
        "1. Prompt the user to choose an operation (e.g., find the sum, average, maximum, or minimum\n",
        "of the numbers).\n",
        "2. Ask the user to input a list of numbers (separated by spaces).\n",
        "3. Perform the selected operation and display the result.\n",
        "4. Handle potential errors, such as invalid input or empty lists.\n",
        "\n",
        "• Requirements:\n",
        "1. Functions: Define at least one function for each operation (sum, average, maximum, mini-\n",
        "mum).\n",
        "2. Error Handling: Use try-except blocks to handle invalid input (e.g., non-numeric values or\n",
        "empty lists).\n",
        "3. User Input: Prompt the user to select the operation and input the list of numbers.\n",
        "4. Docstrings: Include a docstring in each function to describe its purpose, parameters, and\n",
        "return value."
      ],
      "metadata": {
        "id": "wpkI2gM0tBMx"
      }
    },
    {
      "cell_type": "code",
      "source": [
        "def perform_operation():\n",
        "    \"\"\"Performs various mathematical operations on a list of numbers.\"\"\"\n",
        "    print(\"Choose an operation:\")\n",
        "    print(\"1. Sum\")\n",
        "    print(\"2. Average\")\n",
        "    print(\"3. Maximum\")\n",
        "    print(\"4. Minimum\")\n",
        "\n",
        "    operation_choice = input(\"Enter 1, 2, 3, or 4: \")\n",
        "\n",
        "    try:\n",
        "        num_list = list(map(float, input(\"Enter numbers separated by spaces: \").split()))\n",
        "        if not num_list:\n",
        "            print(\"List cannot be empty.\")\n",
        "            return\n",
        "\n",
        "        if operation_choice == \"1\":\n",
        "            print(f\"Sum: {sum(num_list)}\")\n",
        "        elif operation_choice == \"2\":\n",
        "            print(f\"Average: {sum(num_list) / len(num_list)}\")\n",
        "        elif operation_choice == \"3\":\n",
        "            print(f\"Maximum: {max(num_list)}\")\n",
        "        elif operation_choice == \"4\":\n",
        "            print(f\"Minimum: {min(num_list)}\")\n",
        "        else:\n",
        "            print(\"Invalid choice.\")\n",
        "    except ValueError:\n",
        "        print(\"Invalid input. Please enter numbers.\")\n",
        "\n",
        "perform_operation()\n"
      ],
      "metadata": {
        "colab": {
          "base_uri": "https://localhost:8080/"
        },
        "id": "1Gb_uoO8r7Jj",
        "outputId": "bb909f90-868c-4644-8a5f-8f19bc4190f6"
      },
      "execution_count": null,
      "outputs": [
        {
          "output_type": "stream",
          "name": "stdout",
          "text": [
            "Choose an operation:\n",
            "1. Sum\n",
            "2. Average\n",
            "3. Maximum\n",
            "4. Minimum\n",
            "Enter 1, 2, 3, or 4: 1\n",
            "Enter numbers separated by spaces: 3\n",
            "Sum: 3.0\n"
          ]
        }
      ]
    },
    {
      "cell_type": "markdown",
      "source": [
        "**1.2) Exercise on List Manipulation:**"
      ],
      "metadata": {
        "id": "qaHCGG4cs1Gp"
      }
    },
    {
      "cell_type": "markdown",
      "source": [
        "1. Extract Every Other Element:\n",
        "\n",
        "Write a Python function that extracts every other element from a list, starting from the first element.\n",
        "\n",
        "• Requirements:\n",
        "\n",
        "– Define a function extract every other(lst) that takes a list lst as input and returns a new list containing every other element from the original list.\n",
        "\n",
        "– Example: For the input [1, 2, 3, 4, 5, 6], the output should be [1, 3, 5]."
      ],
      "metadata": {
        "id": "-8zbf_WXtxwr"
      }
    },
    {
      "cell_type": "code",
      "source": [
        "def extract_alternate_elements(data_list):\n",
        "    \"\"\"Returns a new list containing every other element from the original list.\"\"\"\n",
        "    return data_list[::2]\n",
        "\n",
        "print(extract_alternate_elements([1, 2, 3, 4, 5, 6]))\n"
      ],
      "metadata": {
        "colab": {
          "base_uri": "https://localhost:8080/"
        },
        "id": "5RAms0UfsJT8",
        "outputId": "4a80ca54-ce82-4727-fcf9-d3445308ed23"
      },
      "execution_count": null,
      "outputs": [
        {
          "output_type": "stream",
          "name": "stdout",
          "text": [
            "[1, 3, 5]\n"
          ]
        }
      ]
    },
    {
      "cell_type": "markdown",
      "source": [
        "2. Slice a Sublist:\n",
        "\n",
        "Write a Python function that returns a sublist from a given list, starting from a specified index and ending at another specified index.\n",
        "\n",
        "• Requirements:\n",
        "\n",
        "– Define a function get sublist(lst, start, end) that takes a list lst, a starting index start, and an ending index end as input and returns the sublist from start to end (inclusive).\n",
        "\n",
        "– Example: For the input [1, 2, 3, 4, 5, 6] with start=2 and end=4, the output should be [3, 4, 5]."
      ],
      "metadata": {
        "id": "1JzWVw-it6xb"
      }
    },
    {
      "cell_type": "code",
      "source": [
        "def get_slice(data_list, start_index, end_index):\n",
        "    \"\"\"Returns a sublist from start index to end index (inclusive).\"\"\"\n",
        "    return data_list[start_index:end_index+1]\n",
        "\n",
        "print(get_slice([1, 2, 3, 4, 5, 6], 2, 4))\n"
      ],
      "metadata": {
        "colab": {
          "base_uri": "https://localhost:8080/"
        },
        "id": "R1c1cw0Cs8Ae",
        "outputId": "8e5b9ba2-8a21-4456-b420-e2cd2f0270c2"
      },
      "execution_count": null,
      "outputs": [
        {
          "output_type": "stream",
          "name": "stdout",
          "text": [
            "[3, 4, 5]\n"
          ]
        }
      ]
    },
    {
      "cell_type": "markdown",
      "source": [
        "3. Reverse a List Using Slicing:\n",
        "\n",
        "Write a Python function that reverses a list using slicing.\n",
        "\n",
        "• Requirements:\n",
        "\n",
        "– Define a function reverse list(lst) that takes a list lst and returns a reversed list using slicing.\n",
        "\n",
        "– Example: For the input [1, 2, 3, 4, 5], the output should be [5, 4, 3, 2, 1]."
      ],
      "metadata": {
        "id": "vRNGKjapuLSW"
      }
    },
    {
      "cell_type": "code",
      "source": [
        "def reverse_sequence(data_sequence):\n",
        "    \"\"\"Returns the reversed list using slicing.\"\"\"\n",
        "    return data_sequence[::-1]\n",
        "\n",
        "print(reverse_sequence([1, 2, 3, 4, 5]))\n"
      ],
      "metadata": {
        "colab": {
          "base_uri": "https://localhost:8080/"
        },
        "id": "8dLCZeT8uH96",
        "outputId": "5b60c620-ad14-4222-a72a-ae373f76fefd"
      },
      "execution_count": null,
      "outputs": [
        {
          "output_type": "stream",
          "name": "stdout",
          "text": [
            "[5, 4, 3, 2, 1]\n"
          ]
        }
      ]
    },
    {
      "cell_type": "markdown",
      "source": [
        "4. Remove the First and Last Elements:\n",
        "\n",
        "Write a Python function that removes the first and last elements of a list and returns the resulting sublist.\n",
        "\n",
        "• Requirements:\n",
        "\n",
        "– Define a function remove first last(lst) that takes a list lst and returns a sublist without the first and last elements using slicing.\n",
        "\n",
        "– Example: For the input [1, 2, 3, 4, 5], the output should be [2, 3, 4]."
      ],
      "metadata": {
        "id": "JJqDJfr9uZ2F"
      }
    },
    {
      "cell_type": "code",
      "source": [
        "def trim_edges(data_list):\n",
        "    \"\"\"Removes the first and last elements from the list.\"\"\"\n",
        "    return data_list[1:-1]\n",
        "\n",
        "print(trim_edges([1, 2, 3, 4, 5]))\n"
      ],
      "metadata": {
        "colab": {
          "base_uri": "https://localhost:8080/"
        },
        "id": "laNYy81CuUHr",
        "outputId": "2cdf2d35-57e2-4a81-ff1d-3c23bd99b504"
      },
      "execution_count": null,
      "outputs": [
        {
          "output_type": "stream",
          "name": "stdout",
          "text": [
            "[2, 3, 4]\n"
          ]
        }
      ]
    },
    {
      "cell_type": "markdown",
      "source": [
        "5. Get the First n Elements:\n",
        "\n",
        "Write a Python function that extracts the first n elements from a list.\n",
        "\n",
        "• Requirements:\n",
        "\n",
        "– Define a function get first n(lst, n) that takes a list lst and an integer n as input and returns the first n elements of the list using slicing.\n",
        "\n",
        "– Example: For the input [1, 2, 3, 4, 5] with n=3, the output should be [1, 2, 3]."
      ],
      "metadata": {
        "id": "g3habAMVuuw7"
      }
    },
    {
      "cell_type": "code",
      "source": [
        "def get_first_elements(data_list, count):\n",
        "    \"\"\"Returns the first 'count' elements of the list.\"\"\"\n",
        "    return data_list[:count]\n",
        "\n",
        "print(get_first_elements([1, 2, 3, 4, 5], 3))\n"
      ],
      "metadata": {
        "colab": {
          "base_uri": "https://localhost:8080/"
        },
        "id": "pIjRSrjdur52",
        "outputId": "1fbb4f01-d53d-4d62-b4f5-7d0b0cc7fc15"
      },
      "execution_count": null,
      "outputs": [
        {
          "output_type": "stream",
          "name": "stdout",
          "text": [
            "[1, 2, 3]\n"
          ]
        }
      ]
    },
    {
      "cell_type": "markdown",
      "source": [
        "6. Extract Elements from the End:\n",
        "\n",
        "Write a Python function that extracts the last n elements of a list using slicing.\n",
        "\n",
        "• Requirements:\n",
        "\n",
        "– Define a function get last n(lst, n) that takes a list lst and an integer n as input and returns the last n elements of the list.\n",
        "\n",
        "– Example: For the input [1, 2, 3, 4, 5] with n=2, the output should be [4, 5]."
      ],
      "metadata": {
        "id": "vGq6yYcbve3Q"
      }
    },
    {
      "cell_type": "code",
      "source": [
        "def get_last_elements(data_list, count):\n",
        "    \"\"\"Returns the last 'count' elements of the list.\"\"\"\n",
        "    return data_list[-count:]\n",
        "\n",
        "print(get_last_elements([1, 2, 3, 4, 5], 2))\n"
      ],
      "metadata": {
        "colab": {
          "base_uri": "https://localhost:8080/"
        },
        "id": "xoh7FgJnvddP",
        "outputId": "7db9f3d1-ca5c-441b-ef5e-11dc6e099a55"
      },
      "execution_count": null,
      "outputs": [
        {
          "output_type": "stream",
          "name": "stdout",
          "text": [
            "[4, 5]\n"
          ]
        }
      ]
    },
    {
      "cell_type": "markdown",
      "source": [
        "7. Extract Elements in Reverse Order:\n",
        "\n",
        "Write a Python function that extracts a list of elements in reverse order starting from the second-to-last element and skipping one element in between.\n",
        "\n",
        "• Requirements:\n",
        "\n",
        "– Define a function reverse skip(lst) that takes a list lst and returns a new list containing every second element starting from the second-to-last, moving backward.\n",
        "\n",
        "– Example: For the input [1, 2, 3, 4, 5, 6], the output should be [5, 3, 1]."
      ],
      "metadata": {
        "id": "FJRlV1kQv5Ru"
      }
    },
    {
      "cell_type": "code",
      "source": [
        "def reverse_alternate(data_list):\n",
        "    \"\"\"Returns every second element from the end, moving backward.\"\"\"\n",
        "    return data_list[-2::-2]\n",
        "\n",
        "print(reverse_alternate([1, 2, 3, 4, 5, 6]))\n"
      ],
      "metadata": {
        "colab": {
          "base_uri": "https://localhost:8080/"
        },
        "id": "V97hIfEQv4Fv",
        "outputId": "425f98e3-a2a6-400d-b618-de2da7f4b607"
      },
      "execution_count": null,
      "outputs": [
        {
          "output_type": "stream",
          "name": "stdout",
          "text": [
            "[5, 3, 1]\n"
          ]
        }
      ]
    },
    {
      "cell_type": "markdown",
      "source": [
        "**1.3) Exercise on Nested List:**"
      ],
      "metadata": {
        "id": "F3Cslj45wHaB"
      }
    },
    {
      "cell_type": "markdown",
      "source": [
        "1. Flatten a Nested List:\n",
        "\n",
        "Write a Python function that takes a nested list and flattens it into a single list, where all the elements are in a single dimension.\n",
        "\n",
        "• Requirements:\n",
        "\n",
        "– Define a function flatten(lst) that takes a nested list lst and returns a flattened version of the list.\n",
        "\n",
        "– Example: For the input [[1, 2], [3, 4], [5]], the output should be [1, 2, 3, 4, 5]."
      ],
      "metadata": {
        "id": "8Xj7sH_gwPS4"
      }
    },
    {
      "cell_type": "code",
      "source": [
        "def flatten(nested_data):\n",
        "    \"\"\"Flattens a nested list into a single list.\"\"\"\n",
        "    flat_result = []\n",
        "    for element in nested_data:\n",
        "        if isinstance(element, list):\n",
        "            flat_result.extend(flatten(element))\n",
        "        else:\n",
        "            flat_result.append(element)\n",
        "    return flat_result\n",
        "\n",
        "nested_list = [[1, 2], [3, 4], [5]]\n",
        "print(flatten(nested_list))\n"
      ],
      "metadata": {
        "colab": {
          "base_uri": "https://localhost:8080/"
        },
        "id": "3MSSX9JtwEft",
        "outputId": "232ed2a1-65c7-40f5-ed87-bbd42f357543"
      },
      "execution_count": null,
      "outputs": [
        {
          "output_type": "stream",
          "name": "stdout",
          "text": [
            "[1, 2, 3, 4, 5]\n"
          ]
        }
      ]
    },
    {
      "cell_type": "markdown",
      "source": [
        "2. Accessing Nested List Elements:\n",
        "\n",
        "Write a Python function that extracts a specific element from a nested list given its indices.\n",
        "\n",
        "• Requirements:\n",
        "\n",
        "– Define a function access nested element(lst, indices) that takes a nested list lst and a list of indices indices, and returns the element at that position.\n",
        "\n",
        "– Example: For the input lst = [[1, 2, 3], [4, 5, 6], [7, 8, 9]] with indices = [1, 2], the output should be 6."
      ],
      "metadata": {
        "id": "Moky3ajRxErZ"
      }
    },
    {
      "cell_type": "code",
      "source": [
        "def access_nested_value(nested_data, index_list):\n",
        "    \"\"\"Extracts a specific element from a nested list given its indices.\"\"\"\n",
        "    value = nested_data\n",
        "    for idx in index_list:\n",
        "        value = value[idx]\n",
        "    return value\n",
        "\n",
        "nested_list = [[1, 2, 3], [4, 5, 6], [7, 8, 9]]\n",
        "index_path = [1, 2]\n",
        "print(access_nested_value(nested_list, index_path))\n"
      ],
      "metadata": {
        "colab": {
          "base_uri": "https://localhost:8080/"
        },
        "id": "Tde1NRnZxCQL",
        "outputId": "1b24a1f8-9263-43a4-c684-ae1c577db5b4"
      },
      "execution_count": null,
      "outputs": [
        {
          "output_type": "stream",
          "name": "stdout",
          "text": [
            "6\n"
          ]
        }
      ]
    },
    {
      "cell_type": "markdown",
      "source": [
        "3. Sum of All Elements in a Nested List:\n",
        "\n",
        "Write a Python function that calculates the sum of all the numbers in a nested list (regardless of depth).\n",
        "\n",
        "• Requirements:\n",
        "– Define a function sum nested(lst) that takes a nested list lst and returns the sum of all the elements.\n",
        "\n",
        "– Example: For the input [[1, 2], [3, [4, 5]], 6], the output should be 21."
      ],
      "metadata": {
        "id": "g5vRpuqExWF_"
      }
    },
    {
      "cell_type": "code",
      "source": [
        "def sum_nested(nested_data):\n",
        "    \"\"\"Calculates the sum of all numbers in a nested list.\"\"\"\n",
        "    total_sum = 0\n",
        "    for element in nested_data:\n",
        "        if isinstance(element, list):\n",
        "            total_sum += sum_nested(element)\n",
        "        else:\n",
        "            total_sum += element\n",
        "    return total_sum\n",
        "\n",
        "nested_list = [[1, 2], [3, [4, 5]], 6]\n",
        "print(sum_nested(nested_list))\n"
      ],
      "metadata": {
        "colab": {
          "base_uri": "https://localhost:8080/"
        },
        "id": "2aJwPoUZxUiv",
        "outputId": "8d79eab4-fc06-4137-c0b2-a9b81a96b039"
      },
      "execution_count": null,
      "outputs": [
        {
          "output_type": "stream",
          "name": "stdout",
          "text": [
            "21\n"
          ]
        }
      ]
    },
    {
      "cell_type": "markdown",
      "source": [
        "4. Remove Specific Element from a Nested List:\n",
        "\n",
        "Write a Python function that removes all occurrences of a specific element from a nested list.\n",
        "\n",
        "• Requirements:\n",
        "\n",
        "– Define a function remove element(lst, elem) that removes elem from lst and returns the modified list.\n",
        "\n",
        "– Example: For the input lst = [[1, 2], [3, 2], [4, 5]] and elem = 2, the output should be [[1], [3], [4, 5]]."
      ],
      "metadata": {
        "id": "UYX_C7BuyEjh"
      }
    },
    {
      "cell_type": "code",
      "source": [
        "def remove_value(nested_data, target_value):\n",
        "    \"\"\"Removes all occurrences of a specific element from a nested list.\"\"\"\n",
        "    filtered_result = []\n",
        "    for element in nested_data:\n",
        "        if isinstance(element, list):\n",
        "            filtered_result.append(remove_value(element, target_value))\n",
        "        elif element != target_value:\n",
        "            filtered_result.append(element)\n",
        "    return filtered_result\n",
        "\n",
        "nested_list = [[1, 2], [3, 2], [4, 5]]\n",
        "value_to_remove = 2\n",
        "print(remove_value(nested_list, value_to_remove))\n"
      ],
      "metadata": {
        "colab": {
          "base_uri": "https://localhost:8080/"
        },
        "id": "pc0Io29nxt9b",
        "outputId": "aad1e59e-ae4c-41a9-9fc7-19caf992a4e0"
      },
      "execution_count": null,
      "outputs": [
        {
          "output_type": "stream",
          "name": "stdout",
          "text": [
            "[[1], [3], [4, 5]]\n"
          ]
        }
      ]
    },
    {
      "cell_type": "markdown",
      "source": [
        "5. Find the Maximum Element in a Nested List:\n",
        "\n",
        "Write a Python function that finds the maximum element in a nested list (regardless of depth).\n",
        "\n",
        "• Requirements:\n",
        "\n",
        "– Define a function find max(lst) that takes a nested list lst and returns the maximum element.\n",
        "\n",
        "– Example: For the input [[1, 2], [3, [4, 5]], 6], the output should be 6."
      ],
      "metadata": {
        "id": "f07PbVTqyUGk"
      }
    },
    {
      "cell_type": "code",
      "source": [
        "def find_max(nested_data):\n",
        "    \"\"\"Finds the maximum element in a nested list.\"\"\"\n",
        "    highest_value = float('-inf')\n",
        "    for element in nested_data:\n",
        "        if isinstance(element, list):\n",
        "            highest_value = max(highest_value, find_max(element))\n",
        "        else:\n",
        "            highest_value = max(highest_value, element)\n",
        "    return highest_value\n",
        "\n",
        "nested_list = [[1, 2], [3, [4, 5]], 6]\n",
        "print(find_max(nested_list))\n"
      ],
      "metadata": {
        "colab": {
          "base_uri": "https://localhost:8080/"
        },
        "id": "YseI3Sr3yR7E",
        "outputId": "2ae86974-c168-4879-e0f6-3193ac952638"
      },
      "execution_count": null,
      "outputs": [
        {
          "output_type": "stream",
          "name": "stdout",
          "text": [
            "6\n"
          ]
        }
      ]
    },
    {
      "cell_type": "markdown",
      "source": [
        "6. Count Occurrences of an Element in a Nested List:\n",
        "\n",
        "Write a Python function that counts how many times a specific element appears in a nested list.\n",
        "• Requirements:\n",
        "\n",
        "– Define a function count occurrences(lst, elem) that counts the occurrences of elem in the nested list lst.\n",
        "\n",
        "– Example: For the input lst = [[1, 2], [2, 3], [2, 4]] and elem = 2, the output should be 3."
      ],
      "metadata": {
        "id": "viwAKsgKygJ_"
      }
    },
    {
      "cell_type": "code",
      "source": [
        "def count_occurrences(nested_data, target_value):\n",
        "    \"\"\"Counts how many times a specific element appears in a nested list.\"\"\"\n",
        "    occurrence_count = 0\n",
        "    for element in nested_data:\n",
        "        if isinstance(element, list):\n",
        "            occurrence_count += count_occurrences(element, target_value)\n",
        "        elif element == target_value:\n",
        "            occurrence_count += 1\n",
        "    return occurrence_count\n",
        "\n",
        "nested_list = [[1, 2], [2, 3], [2, 4]]\n",
        "value_to_count = 2\n",
        "print(count_occurrences(nested_list, value_to_count))\n"
      ],
      "metadata": {
        "colab": {
          "base_uri": "https://localhost:8080/"
        },
        "id": "gCsqbYljyfR9",
        "outputId": "ff0a4fa8-a5d4-4c9e-c2eb-735f0c37c7fd"
      },
      "execution_count": null,
      "outputs": [
        {
          "output_type": "stream",
          "name": "stdout",
          "text": [
            "3\n"
          ]
        }
      ]
    },
    {
      "cell_type": "markdown",
      "source": [
        "7. Flatten a List of Lists of Lists:\n",
        "\n",
        "Write a Python function that flattens a list of lists of lists into a single list, regardless of the depth.\n",
        "\n",
        "• Requirements:\n",
        "– Define a function deep flatten(lst) that takes a deeply nested list lst and returns a single flattened list.\n",
        "\n",
        "– Example: For the input [[[1, 2], [3, 4]], [[5, 6], [7, 8]]], the output should be [1, 2, 3, 4, 5, 6, 7, 8]."
      ],
      "metadata": {
        "id": "Jbgvj1l_yvhn"
      }
    },
    {
      "cell_type": "code",
      "source": [
        "def deep_flatten(nested_data):\n",
        "    \"\"\"Flattens a list of lists of lists into a single list.\"\"\"\n",
        "    flattened_result = []\n",
        "    for element in nested_data:\n",
        "        if isinstance(element, list):\n",
        "            flattened_result.extend(deep_flatten(element))\n",
        "        else:\n",
        "            flattened_result.append(element)\n",
        "    return flattened_result\n",
        "\n",
        "nested_list = [[[1, 2], [3, 4]], [[5, 6], [7, 8]]]\n",
        "print(deep_flatten(nested_list))\n"
      ],
      "metadata": {
        "colab": {
          "base_uri": "https://localhost:8080/"
        },
        "id": "7t4kbLTryuWo",
        "outputId": "fbcc834a-4f1f-4719-c41a-d3a4772ed9e9"
      },
      "execution_count": null,
      "outputs": [
        {
          "output_type": "stream",
          "name": "stdout",
          "text": [
            "[1, 2, 3, 4, 5, 6, 7, 8]\n"
          ]
        }
      ]
    },
    {
      "cell_type": "markdown",
      "source": [
        "8. Nested List Average:\n",
        "\n",
        "Write a Python function that calculates the average of all elements in a nested list.\n",
        "\n",
        "• Requirements:\n",
        "\n",
        "– Define a function average nested(lst) that takes a nested list lst and returns the average of all the elements.\n",
        "\n",
        "– Example: For the input [[1, 2], [3, 4], [5, 6]], the output should be 3.5."
      ],
      "metadata": {
        "id": "XAIv7trny6Qx"
      }
    },
    {
      "cell_type": "code",
      "source": [
        "def average_nested(nested_data):\n",
        "    \"\"\"Calculates the average of all elements in a nested list.\"\"\"\n",
        "    flattened_list = deep_flatten(nested_data)\n",
        "    return sum(flattened_list) / len(flattened_list) if flattened_list else 0\n",
        "\n",
        "nested_list = [[1, 2], [3, 4], [5, 6]]\n",
        "print(average_nested(nested_list))\n"
      ],
      "metadata": {
        "colab": {
          "base_uri": "https://localhost:8080/"
        },
        "id": "vlG7F9Zwy5Fx",
        "outputId": "8a7af23c-8394-4af1-c1ee-a64326734749"
      },
      "execution_count": null,
      "outputs": [
        {
          "output_type": "stream",
          "name": "stdout",
          "text": [
            "3.5\n"
          ]
        }
      ]
    },
    {
      "cell_type": "markdown",
      "source": [
        "**1.4) To - Do - NumPy**"
      ],
      "metadata": {
        "id": "j5jqYhngzGyN"
      }
    },
    {
      "cell_type": "markdown",
      "source": [
        "1.4.1) Basic Vector and Matrix Operation with Numpy."
      ],
      "metadata": {
        "id": "bA17PZlr0JTA"
      }
    },
    {
      "cell_type": "markdown",
      "source": [
        "Problem - 1: Array Creation:\n",
        "\n",
        "Complete the following Tasks:\n",
        "1. Initialize an empty array with size 2X2.\n",
        "2. Initialize an all one array with size 4X2.\n",
        "3. Return a new array of given shape and type, filled with fill value.{Hint: np.full}\n",
        "4. Return a new array of zeros with same shape and type as a given array.{Hint: np.zeros like}\n",
        "5. Return a new array of ones with same shape and type as a given array.{Hint: np.ones like}\n",
        "6. For an existing list new_list = [1,2,3,4] convert to an numpy array.{Hint: np.array()}"
      ],
      "metadata": {
        "id": "zarxaNoh0N2v"
      }
    },
    {
      "cell_type": "code",
      "source": [
        "# 1. Initialize an empty array with size 2x2.\n",
        "import numpy as np\n",
        "matrix_empty = np.empty((2, 2))\n",
        "print(matrix_empty)\n"
      ],
      "metadata": {
        "colab": {
          "base_uri": "https://localhost:8080/"
        },
        "id": "1ndN11RZzFTf",
        "outputId": "37ed5947-7462-4e19-8fc0-c6713bd8e041"
      },
      "execution_count": null,
      "outputs": [
        {
          "output_type": "stream",
          "name": "stdout",
          "text": [
            "[[2.99231664e-316 0.00000000e+000]\n",
            " [6.59737730e-310 6.67421148e-310]]\n"
          ]
        }
      ]
    },
    {
      "cell_type": "code",
      "source": [
        "# 2. Initialize an all-ones array with size 4x2.\n",
        "import numpy as np\n",
        "matrix_ones = np.ones((4, 2))\n",
        "print(matrix_ones)\n"
      ],
      "metadata": {
        "colab": {
          "base_uri": "https://localhost:8080/"
        },
        "id": "pI3-Gijh0k6l",
        "outputId": "40e75164-383c-41e1-b3f2-cc366c66f123"
      },
      "execution_count": null,
      "outputs": [
        {
          "output_type": "stream",
          "name": "stdout",
          "text": [
            "[[1. 1.]\n",
            " [1. 1.]\n",
            " [1. 1.]\n",
            " [1. 1.]]\n"
          ]
        }
      ]
    },
    {
      "cell_type": "code",
      "source": [
        "# 3. Return a new array of given shape and type, filled with a specified value.\n",
        "import numpy as np\n",
        "matrix_filled = np.full((3, 3), 7)\n",
        "print(matrix_filled)\n"
      ],
      "metadata": {
        "colab": {
          "base_uri": "https://localhost:8080/"
        },
        "id": "NBKiFwVjm1yn",
        "outputId": "4c19d412-e793-4289-c72e-e294ca3c3590"
      },
      "execution_count": null,
      "outputs": [
        {
          "output_type": "stream",
          "name": "stdout",
          "text": [
            "[[7 7 7]\n",
            " [7 7 7]\n",
            " [7 7 7]]\n"
          ]
        }
      ]
    },
    {
      "cell_type": "code",
      "source": [
        "# 4. Return a new array of zeros with the same shape and type as a given array.\n",
        "import numpy as np\n",
        "original_matrix = np.array([[1, 2, 3], [4, 5, 6]])\n",
        "matrix_zeros = np.zeros_like(original_matrix)\n",
        "print(matrix_zeros)\n"
      ],
      "metadata": {
        "colab": {
          "base_uri": "https://localhost:8080/"
        },
        "id": "EYqOvAlInHEu",
        "outputId": "56792679-518a-41e6-cd43-c5e43fe5a458"
      },
      "execution_count": null,
      "outputs": [
        {
          "output_type": "stream",
          "name": "stdout",
          "text": [
            "[[0 0 0]\n",
            " [0 0 0]]\n"
          ]
        }
      ]
    },
    {
      "cell_type": "code",
      "source": [
        "# 5. Return a new array of ones with the same shape and type as a given array.\n",
        "import numpy as np\n",
        "original_matrix = np.array([[1, 2, 3], [4, 5, 6]])\n",
        "matrix_ones = np.ones_like(original_matrix)\n",
        "print(matrix_ones)\n"
      ],
      "metadata": {
        "colab": {
          "base_uri": "https://localhost:8080/"
        },
        "id": "KSag7Ku3nXDk",
        "outputId": "9988e5f6-02ad-4541-98ac-6def13935451"
      },
      "execution_count": null,
      "outputs": [
        {
          "output_type": "stream",
          "name": "stdout",
          "text": [
            "[[1 1 1]\n",
            " [1 1 1]]\n"
          ]
        }
      ]
    },
    {
      "cell_type": "code",
      "source": [
        "# 6. Convert an existing list to a NumPy array.\n",
        "import numpy as np\n",
        "list_numbers = [1, 2, 3, 4]\n",
        "array_numpy = np.array(list_numbers)\n",
        "print(array_numpy)\n"
      ],
      "metadata": {
        "colab": {
          "base_uri": "https://localhost:8080/"
        },
        "id": "zQ-xPKsMuFfR",
        "outputId": "8835b5b4-a27a-4801-bd44-9c994ba3acf2"
      },
      "execution_count": null,
      "outputs": [
        {
          "output_type": "stream",
          "name": "stdout",
          "text": [
            "[1 2 3 4]\n"
          ]
        }
      ]
    },
    {
      "cell_type": "markdown",
      "source": [
        "Problem - 2:\n",
        "\n",
        "Array Manipulation: Numerical Ranges and Array indexing\n",
        "\n",
        "Complete the following tasks:\n",
        "1. Create an array with values ranging from 10 to 49. {Hint:np.arrange()}.\n",
        "2. Create a 3X3 matrix with values ranging from 0 to 8.\n",
        "{Hint:look for np.reshape()}\n",
        "3. Create a 3X3 identity matrix.{Hint:np.eye()}\n",
        "4. Create a random array of size 30 and find the mean of the array.{Hint:check for np.random.random() and array.mean() function}\n",
        "5. Create a 10X10 array with random values and find the minimum and maximum values.\n",
        "6. Create a zero array of size 10 and replace 5th element with 1.\n",
        "7. Reverse an array arr = [1,2,0,0,4,0].\n",
        "8. Create a 2d array with 1 on border and 0 inside.\n",
        "9. Create a 8X8 matrix and fill it with a checkerboard pattern."
      ],
      "metadata": {
        "id": "32TUYmBZvZqk"
      }
    },
    {
      "cell_type": "code",
      "source": [
        "# 1. Create an array with values ranging from 10 to 49.\n",
        "import numpy as np\n",
        "range_array = np.arange(10, 50)\n",
        "print(range_array)\n"
      ],
      "metadata": {
        "colab": {
          "base_uri": "https://localhost:8080/"
        },
        "id": "7DaDRDNovQsC",
        "outputId": "422069fa-ffa4-42dc-86c5-d5475bfd87f7"
      },
      "execution_count": null,
      "outputs": [
        {
          "output_type": "stream",
          "name": "stdout",
          "text": [
            "[10 11 12 13 14 15 16 17 18 19 20 21 22 23 24 25 26 27 28 29 30 31 32 33\n",
            " 34 35 36 37 38 39 40 41 42 43 44 45 46 47 48 49]\n"
          ]
        }
      ]
    },
    {
      "cell_type": "code",
      "source": [
        "# 2. Create a 3x3 matrix with values ranging from 0 to 8.\n",
        "import numpy as np\n",
        "matrix_3x3 = np.arange(9).reshape(3, 3)\n",
        "print(matrix_3x3)\n"
      ],
      "metadata": {
        "colab": {
          "base_uri": "https://localhost:8080/"
        },
        "id": "XUR5MY-9vqXq",
        "outputId": "ac670bde-1d82-4aec-a45a-7dbd9612e579"
      },
      "execution_count": null,
      "outputs": [
        {
          "output_type": "stream",
          "name": "stdout",
          "text": [
            "[[0 1 2]\n",
            " [3 4 5]\n",
            " [6 7 8]]\n"
          ]
        }
      ]
    },
    {
      "cell_type": "code",
      "source": [
        "# 3. Create a 3x3 identity matrix.\n",
        "import numpy as np\n",
        "matrix_identity = np.eye(3)\n",
        "print(matrix_identity)\n"
      ],
      "metadata": {
        "colab": {
          "base_uri": "https://localhost:8080/"
        },
        "id": "8m8eGwBbvz5c",
        "outputId": "bdcbec26-2efb-48ea-9e3a-da6cde5f0983"
      },
      "execution_count": null,
      "outputs": [
        {
          "output_type": "stream",
          "name": "stdout",
          "text": [
            "[[1. 0. 0.]\n",
            " [0. 1. 0.]\n",
            " [0. 0. 1.]]\n"
          ]
        }
      ]
    },
    {
      "cell_type": "code",
      "source": [
        "# 4. Create a random array of size 30 and find the mean of the array.\n",
        "import numpy as np\n",
        "array_random = np.random.random(30)\n",
        "mean_random = array_random.mean()\n",
        "print(mean_random)\n"
      ],
      "metadata": {
        "colab": {
          "base_uri": "https://localhost:8080/"
        },
        "id": "BbT_INvVv4u5",
        "outputId": "e88f33ca-35df-4f75-e90d-0010dea86ca9"
      },
      "execution_count": null,
      "outputs": [
        {
          "output_type": "stream",
          "name": "stdout",
          "text": [
            "0.5247469017348465\n"
          ]
        }
      ]
    },
    {
      "cell_type": "code",
      "source": [
        "# 5. Create a 10x10 array with random values and find the minimum and maximum values.\n",
        "import numpy as np\n",
        "matrix_random = np.random.random((10, 10))\n",
        "min_random = matrix_random.min()\n",
        "max_random = matrix_random.max()\n",
        "print(f\"Min value = {min_random}\")\n",
        "print(f\"Max value = {max_random}\")\n"
      ],
      "metadata": {
        "colab": {
          "base_uri": "https://localhost:8080/"
        },
        "id": "9Mu-_qkRwAar",
        "outputId": "41a5f00e-0ee0-418d-c38c-1264415b0e1d"
      },
      "execution_count": null,
      "outputs": [
        {
          "output_type": "stream",
          "name": "stdout",
          "text": [
            "Min value = 0.005770946074363126\n",
            "Max value = 0.9902879161420265\n"
          ]
        }
      ]
    },
    {
      "cell_type": "code",
      "source": [
        "# 6. Create a zero array of size 10 and replace the 5th element with 1.\n",
        "import numpy as np\n",
        "array_zeros = np.zeros(10)\n",
        "array_zeros[4] = 1\n",
        "print(array_zeros)\n"
      ],
      "metadata": {
        "colab": {
          "base_uri": "https://localhost:8080/"
        },
        "id": "Oqfqe6z0wGd8",
        "outputId": "28a4c2c8-7f0a-4dee-8c70-1eac5d6690d5"
      },
      "execution_count": null,
      "outputs": [
        {
          "output_type": "stream",
          "name": "stdout",
          "text": [
            "[0. 0. 0. 0. 1. 0. 0. 0. 0. 0.]\n"
          ]
        }
      ]
    },
    {
      "cell_type": "code",
      "source": [
        "# 7. Reverse an array.\n",
        "import numpy as np\n",
        "array_numbers = np.array([1, 2, 0, 0, 4, 0])\n",
        "array_reversed = array_numbers[::-1]\n",
        "print(array_reversed)\n"
      ],
      "metadata": {
        "colab": {
          "base_uri": "https://localhost:8080/"
        },
        "id": "XCRxlmLuwvDz",
        "outputId": "2874e497-6a57-4623-c757-0698fe573010"
      },
      "execution_count": null,
      "outputs": [
        {
          "output_type": "stream",
          "name": "stdout",
          "text": [
            "[0 4 0 0 2 1]\n"
          ]
        }
      ]
    },
    {
      "cell_type": "code",
      "source": [
        "# 8. Create a 2D array with 1 on the border and 0 inside.\n",
        "import numpy as np\n",
        "matrix_border = np.ones((5, 5))\n",
        "matrix_border[1:-1, 1:-1] = 0\n",
        "print(matrix_border)\n"
      ],
      "metadata": {
        "colab": {
          "base_uri": "https://localhost:8080/"
        },
        "id": "TwVncZfFw1jP",
        "outputId": "63e6a0f3-888f-4878-e9e5-9a18cf9d5ed6"
      },
      "execution_count": null,
      "outputs": [
        {
          "output_type": "stream",
          "name": "stdout",
          "text": [
            "[[1. 1. 1. 1. 1.]\n",
            " [1. 0. 0. 0. 1.]\n",
            " [1. 0. 0. 0. 1.]\n",
            " [1. 0. 0. 0. 1.]\n",
            " [1. 1. 1. 1. 1.]]\n"
          ]
        }
      ]
    },
    {
      "cell_type": "code",
      "source": [
        "# 9. Create an 8x8 matrix and fill it with a checkerboard pattern.\n",
        "import numpy as np\n",
        "\n",
        "matrix_checkerboard = np.zeros((8, 8), dtype=int)\n",
        "matrix_checkerboard[1::2, ::2] = 1\n",
        "matrix_checkerboard[::2, 1::2] = 1\n",
        "\n",
        "print(matrix_checkerboard)\n"
      ],
      "metadata": {
        "colab": {
          "base_uri": "https://localhost:8080/"
        },
        "id": "g7yJf3rVw7ZN",
        "outputId": "a5439d5a-dab8-410c-ea66-b1937280812c"
      },
      "execution_count": null,
      "outputs": [
        {
          "output_type": "stream",
          "name": "stdout",
          "text": [
            "[[0 1 0 1 0 1 0 1]\n",
            " [1 0 1 0 1 0 1 0]\n",
            " [0 1 0 1 0 1 0 1]\n",
            " [1 0 1 0 1 0 1 0]\n",
            " [0 1 0 1 0 1 0 1]\n",
            " [1 0 1 0 1 0 1 0]\n",
            " [0 1 0 1 0 1 0 1]\n",
            " [1 0 1 0 1 0 1 0]]\n"
          ]
        }
      ]
    },
    {
      "cell_type": "markdown",
      "source": [
        "Problem - 3:\n",
        "\n",
        "Array Operations:\n",
        "\n",
        "For the following arrays:\n",
        "\n",
        "x = np.array([[1,2],[3,5]]) and y = np.array([[5,6],[7,8]]);\n",
        "v = np.array([9,10]) and w = np.array([11,12]);\n",
        "\n",
        "Complete all the task using numpy:\n",
        "1. Add the two array.\n",
        "2. Subtract the two array.\n",
        "3. Multiply the array with any integers of your choice.\n",
        "4. Find the square of each element of the array.\n",
        "5. Find the dot product between: v(and)w ; x(and)v ; x(and)y.\n",
        "6. Concatenate x(and)y along row and Concatenate v(and)w along column. {Hint:try np.concatenate() or np.vstack() functions.\n",
        "7. Concatenate x(and)v; if you get an error, observe and explain why did you get the error?"
      ],
      "metadata": {
        "id": "wILQ1444xrMq"
      }
    },
    {
      "cell_type": "code",
      "source": [
        "# 1. Add two arrays.\n",
        "import numpy as np\n",
        "\n",
        "array_one =  np.array([9,10])\n",
        "array_two = np.array([11,12])\n",
        "array_sum = array_one + array_two\n",
        "\n",
        "print(array_sum)\n"
      ],
      "metadata": {
        "colab": {
          "base_uri": "https://localhost:8080/"
        },
        "id": "8YRYO7qRxPuw",
        "outputId": "c41cff61-41b4-4596-b0b4-1f6f1aa30310"
      },
      "execution_count": null,
      "outputs": [
        {
          "output_type": "stream",
          "name": "stdout",
          "text": [
            "[20 22]\n"
          ]
        }
      ]
    },
    {
      "cell_type": "code",
      "source": [
        "# 2. Subtract two arrays.\n",
        "import numpy as np\n",
        "\n",
        "array_one =  np.array([9,10])\n",
        "array_two = np.array([11,12])\n",
        "array_difference = array_one - array_two\n",
        "\n",
        "print(array_difference)\n"
      ],
      "metadata": {
        "colab": {
          "base_uri": "https://localhost:8080/"
        },
        "id": "vHZJPuG0yCTd",
        "outputId": "97f058d6-688a-4cdb-d0c1-90771d141bac"
      },
      "execution_count": null,
      "outputs": [
        {
          "output_type": "stream",
          "name": "stdout",
          "text": [
            "[-2 -2]\n"
          ]
        }
      ]
    },
    {
      "cell_type": "code",
      "source": [
        "# 3. Multiply the array with any integer of your choice.\n",
        "import numpy as np\n",
        "\n",
        "array_matrix = np.array([[1, 2], [3, 5]])\n",
        "multiplied_matrix = array_matrix * 4\n",
        "\n",
        "print(multiplied_matrix)\n"
      ],
      "metadata": {
        "colab": {
          "base_uri": "https://localhost:8080/"
        },
        "id": "IuZ8CUGHyM7D",
        "outputId": "5369a945-4dbe-4b15-d443-ba8956f7b6ba"
      },
      "execution_count": null,
      "outputs": [
        {
          "output_type": "stream",
          "name": "stdout",
          "text": [
            "[[ 4  8]\n",
            " [12 20]]\n"
          ]
        }
      ]
    },
    {
      "cell_type": "code",
      "source": [
        "# 4. Find the square of each element of the array.\n",
        "import numpy as np\n",
        "\n",
        "array_matrix = np.array([[5,6],[7,8]])\n",
        "squared_matrix = array_matrix ** 2\n",
        "\n",
        "print(squared_matrix)\n"
      ],
      "metadata": {
        "colab": {
          "base_uri": "https://localhost:8080/"
        },
        "id": "ubhAi9bMyQm9",
        "outputId": "d57c1ca1-8ff3-4e2e-e04c-0c692e04d82f"
      },
      "execution_count": null,
      "outputs": [
        {
          "output_type": "stream",
          "name": "stdout",
          "text": [
            "[[25 36]\n",
            " [49 64]]\n"
          ]
        }
      ]
    },
    {
      "cell_type": "code",
      "source": [
        "# 5. Find the dot product between: vector_one and vector_two; matrix_one and vector_one; matrix_one and matrix_two.\n",
        "import numpy as np\n",
        "\n",
        "matrix_one = np.array([[1, 2], [3, 5]])\n",
        "matrix_two = np.array([[5, 6], [7, 8]])\n",
        "vector_one = np.array([9, 10])\n",
        "vector_two = np.array([11, 12])\n",
        "\n",
        "dot_vector = np.dot(vector_one, vector_two)\n",
        "dot_matrix_vector = np.dot(matrix_one, vector_one)\n",
        "dot_matrices = np.dot(matrix_one, matrix_two)\n",
        "\n",
        "\n",
        "print(f\"Dot product of matrix_one and matrix_two = {dot_matrices}\")\n",
        "print(f\"Dot product of matrix_one and vector_one = {dot_matrix_vector}\")\n",
        "print(f\"Dot product of vector_one and vector_two = {dot_vector}\")\n"
      ],
      "metadata": {
        "colab": {
          "base_uri": "https://localhost:8080/"
        },
        "id": "NcD_yyhdyWte",
        "outputId": "a39ac6e6-bc35-4dc7-88ec-c9e950e29866"
      },
      "execution_count": null,
      "outputs": [
        {
          "output_type": "stream",
          "name": "stdout",
          "text": [
            "Dot product of matrix_one and matrix_two = [[19 22]\n",
            " [50 58]]\n",
            "Dot product of matrix_one and vector_one = [29 77]\n",
            "Dot product of vector_one and vector_two = 219\n"
          ]
        }
      ]
    },
    {
      "cell_type": "code",
      "source": [
        "# 6. Concatenate matrix_x and matrix_y along rows and vector_a and vector_b along columns.\n",
        "import numpy as np\n",
        "\n",
        "matrix_x = np.array([[1, 2], [3, 5]])\n",
        "matrix_y = np.array([[5, 6], [7, 8]])\n",
        "vector_a = np.array([9, 10])\n",
        "vector_b = np.array([11, 12])\n",
        "\n",
        "concatenated_matrices = np.concatenate((matrix_x, matrix_y), axis=0)\n",
        "\n",
        "vector_a = vector_a.reshape(-1, 1)\n",
        "vector_b = vector_b.reshape(-1, 1)\n",
        "\n",
        "concatenated_vectors = np.concatenate((vector_a, vector_b), axis=1)\n",
        "\n",
        "print(\"Concatenation of matrix_x and matrix_y along rows:\\n\", concatenated_matrices)\n",
        "print(\"\\nConcatenation of vector_a and vector_b along columns:\\n\", concatenated_vectors)\n"
      ],
      "metadata": {
        "colab": {
          "base_uri": "https://localhost:8080/"
        },
        "id": "wBg75H7xy2IZ",
        "outputId": "94c75e67-b952-4354-be50-a2192f7d44ab"
      },
      "execution_count": null,
      "outputs": [
        {
          "output_type": "stream",
          "name": "stdout",
          "text": [
            "Concatenation of matrix_x and matrix_y along rows:\n",
            " [[1 2]\n",
            " [3 5]\n",
            " [5 6]\n",
            " [7 8]]\n",
            "\n",
            "Concatenation of vector_a and vector_b along columns:\n",
            " [[ 9 11]\n",
            " [10 12]]\n"
          ]
        }
      ]
    },
    {
      "cell_type": "code",
      "source": [
        "# 7. Concatenate matrix_A and vector_B; if you get an error, observe and explain why.\n",
        "import numpy as np\n",
        "\n",
        "matrix_A = np.array([[1, 2], [3, 5]])\n",
        "vector_B = np.array([9, 10])\n",
        "\n",
        "try:\n",
        "    concatenated_result = np.concatenate((matrix_A, vector_B), axis=0)\n",
        "    print(\"Concatenation successful:\\n\", concatenated_result)\n",
        "except ValueError as error_message:\n",
        "    print(\"Error:\", error_message)\n"
      ],
      "metadata": {
        "colab": {
          "base_uri": "https://localhost:8080/"
        },
        "id": "DmowMHQs0CUL",
        "outputId": "ecac6a06-e31c-4647-c63b-00a94481f2ef"
      },
      "execution_count": null,
      "outputs": [
        {
          "output_type": "stream",
          "name": "stdout",
          "text": [
            "Error: all the input arrays must have same number of dimensions, but the array at index 0 has 2 dimension(s) and the array at index 1 has 1 dimension(s)\n"
          ]
        }
      ]
    },
    {
      "cell_type": "markdown",
      "source": [
        "Explanation:\n",
        "\n",
        "The shape of x is (2,2) (a 2×2 matrix).\n",
        "The shape of v is (2,) (a 1D array with 2 elements).\n",
        "When concatenating along axis=0 (rows), NumPy expects the number of columns to match. x has 2 columns, but v has no explicit column dimension (it's 1D), causing a shape mismatch."
      ],
      "metadata": {
        "id": "PA594PTt0Ym0"
      }
    },
    {
      "cell_type": "markdown",
      "source": [
        "Problem - 4:\n",
        "\n",
        "Matrix Operations:\n",
        "\n",
        "• For the following arrays:\n",
        "\n",
        "A = np.array([[3,4],[7,8]]) and B = np.array([[5,3],[2,1]]);\n",
        "\n",
        "Prove following with Numpy:\n",
        "1. Prove A.A−1 = I.\n",
        "2. Prove AB ̸= BA.\n",
        "3. Prove (AB)\n",
        "\n",
        "T = BTAT\n",
        "\n",
        "• Solve the following system of Linear equation using Inverse Methods.\n",
        "\n",
        "2x − 3y + z = −1\n",
        "\n",
        "x − y + 2z = −3\n",
        "\n",
        "3x + y − z = 9\n",
        "\n",
        "{Hint: First use Numpy array to represent the equation in Matrix form. Then Solve for: AX = B}\n",
        "\n",
        "• Now: solve the above equation using np.linalg.inv function.{Explore more about ”linalg” func-\n",
        "tion of Numpy}"
      ],
      "metadata": {
        "id": "1ktIDIV50io1"
      }
    },
    {
      "cell_type": "code",
      "source": [
        "# 1. Prove A.A^−1 = I.\n",
        "import numpy as np\n",
        "\n",
        "A = np.array([[3, 4], [7, 8]])\n",
        "\n",
        "A_inv = np.linalg.inv(A)\n",
        "\n",
        "identity_matrix = np.dot(A, A_inv)\n",
        "\n",
        "print(\"A inverse (A⁻¹):\\n\", A_inv)\n",
        "print(\"\\nA * A⁻¹:\\n\", identity_matrix)\n",
        "\n",
        "I = np.eye(2)\n",
        "is_identity = np.allclose(identity_matrix, I)\n",
        "\n",
        "print(\"\\nIs A * A⁻¹ equal to Identity matrix?:\", is_identity)\n"
      ],
      "metadata": {
        "colab": {
          "base_uri": "https://localhost:8080/"
        },
        "id": "C4KhUonK0R-q",
        "outputId": "1788a0ce-5846-422d-d348-cfc36d8960c4"
      },
      "execution_count": null,
      "outputs": [
        {
          "output_type": "stream",
          "name": "stdout",
          "text": [
            "A inverse (A⁻¹):\n",
            " [[-2.    1.  ]\n",
            " [ 1.75 -0.75]]\n",
            "\n",
            "A * A⁻¹:\n",
            " [[1.00000000e+00 0.00000000e+00]\n",
            " [1.77635684e-15 1.00000000e+00]]\n",
            "\n",
            "Is A * A⁻¹ equal to Identity matrix?: True\n"
          ]
        }
      ]
    },
    {
      "cell_type": "code",
      "source": [
        "# 2. Prove AB ̸= BA.\n",
        "import numpy as np\n",
        "\n",
        "A = np.array([[3, 4], [7, 8]])\n",
        "B = np.array([[5, 3], [2, 1]])\n",
        "\n",
        "AB = np.dot(A, B)\n",
        "BA = np.dot(B, A)\n",
        "\n",
        "print(\"AB:\\n\", AB)\n",
        "print(\"\\nBA:\\n\", BA)\n",
        "\n",
        "is_equal = np.array_equal(AB, BA)\n",
        "\n",
        "print(\"\\nIs AB equal to BA?:\", is_equal)\n"
      ],
      "metadata": {
        "colab": {
          "base_uri": "https://localhost:8080/"
        },
        "id": "0v5viv8F2CyD",
        "outputId": "c7d06bef-1a30-4fe7-fa7c-83ee30455dcf"
      },
      "execution_count": null,
      "outputs": [
        {
          "output_type": "stream",
          "name": "stdout",
          "text": [
            "AB:\n",
            " [[23 13]\n",
            " [51 29]]\n",
            "\n",
            "BA:\n",
            " [[36 44]\n",
            " [13 16]]\n",
            "\n",
            "Is AB equal to BA?: False\n"
          ]
        }
      ]
    },
    {
      "cell_type": "code",
      "source": [
        "# 3. Prove (AB)^T = B^T A^T.\n",
        "import numpy as np\n",
        "\n",
        "A = np.array([[3, 4], [7, 8]])\n",
        "B = np.array([[5, 3], [2, 1]])\n",
        "\n",
        "# Compute AB\n",
        "AB = np.dot(A, B)\n",
        "\n",
        "# Compute (AB)^T\n",
        "transpose_AB = AB.T\n",
        "\n",
        "# Compute B^T and A^T\n",
        "B_T = B.T\n",
        "A_T = A.T\n",
        "\n",
        "# Compute B^T A^T\n",
        "BT_AT = np.dot(B_T, A_T)\n",
        "\n",
        "print(\"Transpose of AB ( (AB)^T ):\\n\", transpose_AB)\n",
        "print(\"\\nMultiplication of Transposed Matrices ( B^T A^T ):\\n\", BT_AT)\n",
        "\n",
        "# Verify if (AB)^T == B^T A^T\n",
        "is_equal = np.array_equal(transpose_AB, BT_AT)\n",
        "print(\"\\nIs (AB)^T equal to B^T A^T?:\", is_equal)"
      ],
      "metadata": {
        "colab": {
          "base_uri": "https://localhost:8080/"
        },
        "id": "bzr36BPa2SS9",
        "outputId": "9d637bd8-c0f4-4838-ec92-8186014606d8"
      },
      "execution_count": null,
      "outputs": [
        {
          "output_type": "stream",
          "name": "stdout",
          "text": [
            "Transpose of AB ( (AB)^T ):\n",
            " [[23 51]\n",
            " [13 29]]\n",
            "\n",
            "Multiplication of Transposed Matrices ( B^T A^T ):\n",
            " [[23 51]\n",
            " [13 29]]\n",
            "\n",
            "Is (AB)^T equal to B^T A^T?: True\n"
          ]
        }
      ]
    },
    {
      "cell_type": "code",
      "source": [
        "# Solve the following system of Linear equation using Inverse Methods.\n",
        "# 2x − 3y + z = −1\n",
        "# x − y + 2z = −3\n",
        "# 3x + y − z = 9\n",
        "\n",
        "import numpy as np\n",
        "\n",
        "A = np.array([[2, -3, 1],\n",
        "              [1, -1, 2],\n",
        "              [3, 1, -1]])\n",
        "\n",
        "B = np.array([-1, -3, 9])\n",
        "\n",
        "A_inv = np.linalg.inv(A)\n",
        "\n",
        "X = np.dot(A_inv, B)\n",
        "\n",
        "print(\"Solution for x, y, z:\")\n",
        "print(f\"x = {X[0]:.2f}\")\n",
        "print(f\"y = {X[1]:.2f}\")\n",
        "print(f\"z = {X[2]:.2f}\")"
      ],
      "metadata": {
        "colab": {
          "base_uri": "https://localhost:8080/"
        },
        "id": "GnJEOOWK25kF",
        "outputId": "d1089f79-942f-4a25-e01f-7ef5520e0f9f"
      },
      "execution_count": null,
      "outputs": [
        {
          "output_type": "stream",
          "name": "stdout",
          "text": [
            "Solution for x, y, z:\n",
            "x = 2.00\n",
            "y = 1.00\n",
            "z = -2.00\n"
          ]
        }
      ]
    },
    {
      "cell_type": "code",
      "source": [
        "# Now: solve the above equation using np.linalg.inv function.{Explore more about ”linalg” function of Numpy}\n",
        "import numpy as np\n",
        "\n",
        "A = np.array([[2, -3, 1],\n",
        "              [1, -1, 2],\n",
        "              [3, 1, -1]])\n",
        "\n",
        "B = np.array([-1, -3, 9])\n",
        "\n",
        "A_inv = np.linalg.inv(A)\n",
        "\n",
        "X = np.dot(A_inv, B)\n",
        "\n",
        "print(\"Solution using np.linalg.inv():\")\n",
        "print(f\"x = {X[0]:.2f}\")\n",
        "print(f\"y = {X[1]:.2f}\")\n",
        "print(f\"z = {X[2]:.2f}\")"
      ],
      "metadata": {
        "colab": {
          "base_uri": "https://localhost:8080/"
        },
        "id": "gO-m1fsw3BoB",
        "outputId": "388a3a19-ba5d-481c-8414-06d4624931e9"
      },
      "execution_count": null,
      "outputs": [
        {
          "output_type": "stream",
          "name": "stdout",
          "text": [
            "Solution using np.linalg.inv():\n",
            "x = 2.00\n",
            "y = 1.00\n",
            "z = -2.00\n"
          ]
        }
      ]
    },
    {
      "cell_type": "markdown",
      "source": [
        "Experiment: How Fast is Numpy?\n",
        "In this exercise, you will compare the performance and implementation of operations using plain Python\n",
        "lists (arrays) and NumPy arrays. Follow the instructions:\n",
        "1. Element-wise Addition:\n",
        "\n",
        "• Using Python Lists, perform element-wise addition of two lists of size 1, 000, 000. Measure\n",
        "and Print the time taken for this operation.\n",
        "\n",
        "• Using Numpy Arrays, Repeat the calculation and measure and print the time taken for\n",
        "this operation."
      ],
      "metadata": {
        "id": "RnSUiVAFVlrk"
      }
    },
    {
      "cell_type": "code",
      "source": [
        "#Using Python Lists, perform element-wise addition of two lists of size 1, 000, 000.\n",
        "import time\n",
        "import random\n",
        "\n",
        "# Define the size of the lists\n",
        "size = 1_000_000\n",
        "\n",
        "# Generate two lists with random integers\n",
        "list1 = [random.randint(0, 100) for _ in range(size)]\n",
        "list2 = [random.randint(0, 100) for _ in range(size)]\n",
        "\n",
        "# Measure the time taken for element-wise addition using list comprehension\n",
        "start_time = time.time()\n",
        "\n",
        "result = [a + b for a, b in zip(list1, list2)]\n",
        "\n",
        "end_time = time.time()\n",
        "\n",
        "# Print the time taken\n",
        "print(f\"Time taken for element-wise addition using Python lists: {end_time - start_time:.6f} seconds\")\n"
      ],
      "metadata": {
        "colab": {
          "base_uri": "https://localhost:8080/"
        },
        "id": "ZAaqsWCZVkrP",
        "outputId": "5c1eab49-3fe6-4a20-b3d7-de1d50f69915"
      },
      "execution_count": null,
      "outputs": [
        {
          "output_type": "stream",
          "name": "stdout",
          "text": [
            "Time taken for element-wise addition using Python lists: 0.045571 seconds\n"
          ]
        }
      ]
    },
    {
      "cell_type": "code",
      "source": [
        "#Using Numpy Arrays, Repeat the calculation and measure and print the time taken for this operation.\n",
        "import time\n",
        "import numpy as np\n",
        "\n",
        "# Define the size of the arrays\n",
        "size = 1_000_000\n",
        "\n",
        "# Generate two NumPy arrays with random integers\n",
        "array1 = np.random.randint(0, 100, size)\n",
        "array2 = np.random.randint(0, 100, size)\n",
        "\n",
        "# Measure the time taken for element-wise addition using NumPy\n",
        "start_time = time.time()\n",
        "\n",
        "result_array = array1 + array2  # Vectorized operation\n",
        "\n",
        "end_time = time.time()\n",
        "\n",
        "# Print the time taken\n",
        "print(f\"Time taken for element-wise addition using NumPy arrays: {end_time - start_time:.6f} seconds\")\n"
      ],
      "metadata": {
        "colab": {
          "base_uri": "https://localhost:8080/"
        },
        "id": "IDxp6SDhXIGL",
        "outputId": "cb7795ef-1e29-40d5-f0cd-1ca5696c548a"
      },
      "execution_count": null,
      "outputs": [
        {
          "output_type": "stream",
          "name": "stdout",
          "text": [
            "Time taken for element-wise addition using NumPy arrays: 0.008701 seconds\n"
          ]
        }
      ]
    },
    {
      "cell_type": "markdown",
      "source": [
        "2. Element-wise Multiplication\n",
        "\n",
        "• Using Python Lists, perform element-wise multiplication of two lists of size 1, 000, 000.\n",
        "Measure and Print the time taken for this operation.\n",
        "\n",
        "• Using Numpy Arrays, Repeat the calculation and measure and print the time taken for\n",
        "this operation."
      ],
      "metadata": {
        "id": "q_l34NTLXb5k"
      }
    },
    {
      "cell_type": "code",
      "source": [
        "#Using Python Lists, perform element-wise multiplication of two lists of size 1, 000, 000. Measure and Print the time taken for this operation.\n",
        "import time\n",
        "import random\n",
        "\n",
        "# Define the size of the lists\n",
        "size = 1_000_000\n",
        "\n",
        "# Generate two lists with random integers\n",
        "list1 = [random.randint(0, 100) for _ in range(size)]\n",
        "list2 = [random.randint(0, 100) for _ in range(size)]\n",
        "\n",
        "# Measure the time taken for element-wise multiplication using list comprehension\n",
        "start_time = time.time()\n",
        "\n",
        "result = [a * b for a, b in zip(list1, list2)]  # Multiplication operation\n",
        "\n",
        "end_time = time.time()\n",
        "\n",
        "# Print the time taken\n",
        "print(f\"Time taken for element-wise multiplication using Python lists: {end_time - start_time:.6f} seconds\")\n"
      ],
      "metadata": {
        "colab": {
          "base_uri": "https://localhost:8080/"
        },
        "id": "a1cC_P4hXS2t",
        "outputId": "d7afa179-785d-4ed8-d40b-3d5f7c1b5453"
      },
      "execution_count": null,
      "outputs": [
        {
          "output_type": "stream",
          "name": "stdout",
          "text": [
            "Time taken for element-wise multiplication using Python lists: 0.079108 seconds\n"
          ]
        }
      ]
    },
    {
      "cell_type": "code",
      "source": [
        "#Using Numpy Arrays, Repeat the calculation and measure and print the time taken for this operation.\n",
        "import time\n",
        "import numpy as np\n",
        "\n",
        "# Define the size of the arrays\n",
        "size = 1_000_000\n",
        "\n",
        "# Generate two NumPy arrays with random integers\n",
        "array1 = np.random.randint(0, 100, size)\n",
        "array2 = np.random.randint(0, 100, size)\n",
        "\n",
        "# Measure the time taken for element-wise multiplication using NumPy\n",
        "start_time = time.time()\n",
        "\n",
        "result_array = array1 * array2  # Vectorized multiplication\n",
        "\n",
        "end_time = time.time()\n",
        "\n",
        "# Print the time taken\n",
        "print(f\"Time taken for element-wise multiplication using NumPy arrays: {end_time - start_time:.6f} seconds\")\n"
      ],
      "metadata": {
        "colab": {
          "base_uri": "https://localhost:8080/"
        },
        "id": "4IOkhZeqXqmS",
        "outputId": "be018008-b221-4448-f9b1-fa43fc93ec0e"
      },
      "execution_count": null,
      "outputs": [
        {
          "output_type": "stream",
          "name": "stdout",
          "text": [
            "Time taken for element-wise multiplication using NumPy arrays: 0.014213 seconds\n"
          ]
        }
      ]
    },
    {
      "cell_type": "markdown",
      "source": [
        "3. Dot Product\n",
        "\n",
        "• Using Python Lists, compute the dot product of two lists of size 1, 000, 000. Measure and\n",
        "Print the time taken for this operation.\n",
        "\n",
        "• Using Numpy Arrays, Repeat the calculation and measure and print the time taken for\n",
        "this operation."
      ],
      "metadata": {
        "id": "cScY9GcMX75a"
      }
    },
    {
      "cell_type": "code",
      "source": [
        "# Using Python Lists, compute the dot product of two lists of size 1, 000, 000. Measure and Print the time taken for this operation.\n",
        "import time\n",
        "import random\n",
        "\n",
        "# Define the size of the lists\n",
        "size = 1_000_000\n",
        "\n",
        "# Generate two lists with random integers\n",
        "list1 = [random.randint(0, 100) for _ in range(size)]\n",
        "list2 = [random.randint(0, 100) for _ in range(size)]\n",
        "\n",
        "# Measure the time taken for computing the dot product using Python lists\n",
        "start_time = time.time()\n",
        "\n",
        "dot_product = sum(a * b for a, b in zip(list1, list2))  # Manual dot product calculation\n",
        "\n",
        "end_time = time.time()\n",
        "\n",
        "# Print the time taken\n",
        "print(f\"Time taken for dot product using Python lists: {end_time - start_time:.6f} seconds\")\n"
      ],
      "metadata": {
        "colab": {
          "base_uri": "https://localhost:8080/"
        },
        "id": "iUuEXQjxX5Yg",
        "outputId": "059911a3-a7e4-45e8-d3b3-8a423aef4784"
      },
      "execution_count": null,
      "outputs": [
        {
          "output_type": "stream",
          "name": "stdout",
          "text": [
            "Time taken for dot product using Python lists: 0.148694 seconds\n"
          ]
        }
      ]
    },
    {
      "cell_type": "code",
      "source": [
        "#Using Numpy Arrays, Repeat the calculation and measure and print the time taken for this operation.\n",
        "import time\n",
        "import numpy as np\n",
        "\n",
        "# Define the size of the arrays\n",
        "size = 1_000_000\n",
        "\n",
        "# Generate two NumPy arrays with random integers\n",
        "array1 = np.random.randint(0, 100, size)\n",
        "array2 = np.random.randint(0, 100, size)\n",
        "\n",
        "# Measure the time taken for computing the dot product using NumPy\n",
        "start_time = time.time()\n",
        "\n",
        "dot_product = np.dot(array1, array2)  # Optimized dot product calculation\n",
        "\n",
        "end_time = time.time()\n",
        "\n",
        "# Print the time taken\n",
        "print(f\"Time taken for dot product using NumPy arrays: {end_time - start_time:.6f} seconds\")\n"
      ],
      "metadata": {
        "colab": {
          "base_uri": "https://localhost:8080/"
        },
        "id": "gHHwxpQyYNg_",
        "outputId": "bcce4961-0a07-4696-893e-ea49ec13bd0b"
      },
      "execution_count": null,
      "outputs": [
        {
          "output_type": "stream",
          "name": "stdout",
          "text": [
            "Time taken for dot product using NumPy arrays: 0.002659 seconds\n"
          ]
        }
      ]
    },
    {
      "cell_type": "markdown",
      "source": [
        "Matrix Multiplication\n",
        "\n",
        "• Using Python lists, perform matrix multiplication of two matrices of size 1000x1000. Mea-\n",
        "sure and print the time taken for this operation.\n",
        "\n",
        "• Using NumPy arrays, perform matrix multiplication of two matrices of size 1000x1000.\n",
        "Measure and print the time taken for this operation."
      ],
      "metadata": {
        "id": "p0lvDTtJYawV"
      }
    },
    {
      "cell_type": "code",
      "source": [
        "#Using Python lists, perform matrix multiplication of two matrices of size 1000x1000. Mea- sure and print the time taken for this operation.\n",
        "\n",
        "import time\n",
        "import random\n",
        "\n",
        "# Define the size of the matrices\n",
        "size = 1000\n",
        "\n",
        "# Generate two 1000x1000 matrices with random integers\n",
        "matrix1 = [[random.randint(0, 100) for _ in range(size)] for _ in range(size)]\n",
        "matrix2 = [[random.randint(0, 100) for _ in range(size)] for _ in range(size)]\n",
        "\n",
        "# Initialize the result matrix with zeros\n",
        "result = [[0] * size for _ in range(size)]\n",
        "\n",
        "# Measure the time taken for matrix multiplication using nested loops\n",
        "start_time = time.time()\n",
        "\n",
        "for i in range(size):\n",
        "    for j in range(size):\n",
        "        for k in range(size):\n",
        "            result[i][j] += matrix1[i][k] * matrix2[k][j]\n",
        "\n",
        "end_time = time.time()\n",
        "\n",
        "# Print the time taken\n",
        "print(f\"Time taken for matrix multiplication using Python lists: {end_time - start_time:.6f} seconds\")\n"
      ],
      "metadata": {
        "colab": {
          "base_uri": "https://localhost:8080/"
        },
        "id": "hvRW_YhzYXes",
        "outputId": "0bbdfcbf-e408-4716-fcbc-d0e526c07837"
      },
      "execution_count": null,
      "outputs": [
        {
          "output_type": "stream",
          "name": "stdout",
          "text": [
            "Time taken for matrix multiplication using Python lists: 318.571554 seconds\n"
          ]
        }
      ]
    },
    {
      "cell_type": "code",
      "source": [
        "#Using NumPy arrays, perform matrix multiplication of two matrices of size 1000x1000. Measure and print the time taken for this operation.\n",
        "import time\n",
        "import numpy as np\n",
        "\n",
        "# Define the size of the matrices\n",
        "size = 1000\n",
        "\n",
        "# Generate two 1000x1000 matrices with random integers using NumPy\n",
        "matrix1 = np.random.randint(0, 100, (size, size))\n",
        "matrix2 = np.random.randint(0, 100, (size, size))\n",
        "\n",
        "# Measure the time taken for matrix multiplication using NumPy\n",
        "start_time = time.time()\n",
        "\n",
        "# Matrix multiplication using NumPy's dot product function\n",
        "result = np.dot(matrix1, matrix2)\n",
        "\n",
        "end_time = time.time()\n",
        "\n",
        "# Print the time taken\n",
        "print(f\"Time taken for matrix multiplication using NumPy: {end_time - start_time:.6f} seconds\")\n"
      ],
      "metadata": {
        "colab": {
          "base_uri": "https://localhost:8080/"
        },
        "id": "L5_j6Ba2Y3Ol",
        "outputId": "beea00e5-ea51-4ecf-a588-80e53cee4349"
      },
      "execution_count": null,
      "outputs": [
        {
          "output_type": "stream",
          "name": "stdout",
          "text": [
            "Time taken for matrix multiplication using NumPy: 4.741620 seconds\n"
          ]
        }
      ]
    }
  ]
}